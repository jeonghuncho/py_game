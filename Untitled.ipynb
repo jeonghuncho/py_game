{
 "cells": [
  {
   "cell_type": "code",
   "execution_count": 33,
   "id": "ed4937df",
   "metadata": {},
   "outputs": [],
   "source": [
    "import tkinter as tk\n",
    "import random as r\n",
    "\n",
    "check = True\n",
    "c = 0\n",
    "lucky_number = 0\n",
    "\n",
    "def answer(event) :\n",
    "    global c, lucky_number\n",
    "    if c > 0 :\n",
    "        n = int(input_number.get())\n",
    "        input_number.delete(0, tk.END)\n",
    "        c = int(c) - 1\n",
    "        label['text'] = '기회는 ' + str(c) + '번 남았습니다'\n",
    "        if c > 0 :\n",
    "            if n > lucky_number :\n",
    "                hint_n['text'] = 'Down'\n",
    "            elif n < lucky_number : \n",
    "                hint_n['text'] = 'Up'\n",
    "            else :\n",
    "                hint_n['text'] = 'Correct'\n",
    "                c = 0\n",
    "                return\n",
    "        else :\n",
    "            hint_n['text'] = '행운의 숫자는 ' + str(lucky_number) + ' 였습니다 ㅎㅎ'\n",
    "            return\n",
    "    \n",
    "def start(event) :\n",
    "    global check, c, lucky_number\n",
    "    if entry.get().isdigit() :\n",
    "        if check : \n",
    "            lucky_number = r.randint(1, 100) # 행운의 숫자를 저장\n",
    "            label['text'] = '<행운의 숫자>가 생성되었습니다!'\n",
    "            c = int(entry.get())\n",
    "            entry.delete(0, tk.END)\n",
    "            check = False\n",
    "            root.after(1000, click_btn)\n",
    "        else :\n",
    "            input_n.place(x=50, y=100)\n",
    "            input_number.place(x=170, y=100)\n",
    "            hint_n.place(x=170, y=150)\n",
    "            label['text'] = '기회는 ' + str(c) + '번 남았습니다'\n",
    "            input_number.bind('<Return>', answer)\n",
    "    else :\n",
    "        entry.delete(0, tk.END)\n",
    "        \n",
    "    \n",
    "root = tk.Tk()\n",
    "root.title('업 다운 게임')\n",
    "root.resizable(False, False)\n",
    "\n",
    "canvas = tk.Canvas(width=500, height=300, bg='skyblue')\n",
    "canvas.pack()\n",
    "\n",
    "chance = tk.Label(text='입력할 수 있는 기회를 입력하세요 : ', font=('Times New Roman', 13), bg='skyblue', fg='black')\n",
    "chance.place(x=40, y=20)\n",
    "\n",
    "entry = tk.Entry(width=20, font=('Times New Roman', 13), bg='skyblue', fg='black')\n",
    "entry.place(x=250, y=18)\n",
    "entry.bind('<Return>', start)\n",
    "\n",
    "label = tk.Label(font=('Times New Roman', 13), bg='skyblue', fg='black')\n",
    "label.place(x=160, y=60)\n",
    "\n",
    "input_n = tk.Label(text='숫자를 입력하세요', font=('Times New Roman', 13), bg='skyblue', fg='black')\n",
    "input_number = tk.Entry(width=20, font=('Times New Roman', 13), bg='skyblue', fg='black')\n",
    "hint_n = tk.Label(font=('Times New Roman', 15), bg='skyblue', fg='black')\n",
    "\n",
    "root.mainloop()"
   ]
  },
  {
   "cell_type": "code",
   "execution_count": null,
   "id": "a3cdd4c4",
   "metadata": {},
   "outputs": [],
   "source": []
  },
  {
   "cell_type": "code",
   "execution_count": 21,
   "id": "a3dca941",
   "metadata": {},
   "outputs": [
    {
     "name": "stdout",
     "output_type": "stream",
     "text": [
      "33\n"
     ]
    }
   ],
   "source": []
  },
  {
   "cell_type": "code",
   "execution_count": 25,
   "id": "c974c05e",
   "metadata": {},
   "outputs": [
    {
     "name": "stdout",
     "output_type": "stream",
     "text": [
      "입력된 값은 숫자입니다: A\n",
      "입력된 값은 숫자입니다: A\n",
      "숫자가 아닌 값입니다. 다시 입력해주세요.\n",
      "입력된 값은 숫자입니다: A\n",
      "입력된 값은 숫자입니다: A\n",
      "입력된 값은 숫자입니다: A\n"
     ]
    }
   ],
   "source": [
    "import tkinter as tk\n",
    "\n",
    "def handle_enter(event):\n",
    "    entered_text = entry.get()  # 엔트리에 입력된 텍스트 가져오기\n",
    "    if entered_text.isdigit():  # 입력된 텍스트가 숫자인지 확인\n",
    "        print(\"입력된 값은 숫자입니다: A\")\n",
    "    else:\n",
    "        print(\"숫자가 아닌 값입니다. 다시 입력해주세요.\")\n",
    "    entry.delete(0, tk.END)  # 엔트리 내용 지우기\n",
    "\n",
    "# tkinter 윈도우 생성\n",
    "window = tk.Tk()\n",
    "window.title(\"숫자 입력 확인 예제\")\n",
    "\n",
    "# Entry 위젯 생성\n",
    "entry = tk.Entry(window)\n",
    "entry.pack(pady=10)\n",
    "\n",
    "# 엔터 키를 눌렀을 때 이벤트 핸들러 등록\n",
    "entry.bind(\"<Return>\", handle_enter)\n",
    "\n",
    "# 윈도우 실행\n",
    "window.mainloop()\n"
   ]
  },
  {
   "cell_type": "code",
   "execution_count": null,
   "id": "01c29e2f",
   "metadata": {},
   "outputs": [],
   "source": []
  }
 ],
 "metadata": {
  "kernelspec": {
   "display_name": "Python 3 (ipykernel)",
   "language": "python",
   "name": "python3"
  },
  "language_info": {
   "codemirror_mode": {
    "name": "ipython",
    "version": 3
   },
   "file_extension": ".py",
   "mimetype": "text/x-python",
   "name": "python",
   "nbconvert_exporter": "python",
   "pygments_lexer": "ipython3",
   "version": "3.10.9"
  }
 },
 "nbformat": 4,
 "nbformat_minor": 5
}
